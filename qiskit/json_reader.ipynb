{
 "cells": [
  {
   "cell_type": "markdown",
   "id": "78e9ecba-7c88-46b9-8809-b426638387de",
   "metadata": {},
   "source": [
    "# Sandbox"
   ]
  },
  {
   "cell_type": "code",
   "execution_count": 43,
   "id": "13f61624-a9f1-477e-b4f2-d7696b8b0186",
   "metadata": {
    "jupyter": {
     "source_hidden": true
    }
   },
   "outputs": [
    {
     "name": "stdout",
     "output_type": "stream",
     "text": [
      "1 137\n",
      "0.4268\n"
     ]
    }
   ],
   "source": [
    "from collections import Counter \n",
    " \n",
    "with open('results/r5s1024_True-1.json', 'r') as json_File:\n",
    "    json_file = json.load(json_File)\n",
    " \n",
    "# getting hold of all values inside\n",
    "# the dictionary\n",
    "shots = json_file['results'][0]['shots']\n",
    "time_taken = round(json_file['time_taken'], 3)\n",
    "accuracy = json_file['accuracy']\n",
    "\n",
    "# implementing get_counts()\n",
    "count = json_file['results'][0]['data']['counts']\n",
    "value, count = Counter(count.values()).most_common(1)[0]\n",
    "# accuracy = round(count/shots, 4)\n",
    "\n",
    "\n",
    "print(value, count)\n",
    "print(accuracy)\n",
    "\n",
    "# getting hold of the values of\n",
    "# variableParam\n",
    "# test1 = test[1].values() \n",
    "# test2 = list(test1)[0]\n",
    "# test3 = test2[1:-1].split(\",\")\n",
    "# print(test3[1])"
   ]
  },
  {
   "cell_type": "code",
   "execution_count": 12,
   "id": "c67adb13-507d-4558-a742-47594ace3478",
   "metadata": {
    "collapsed": true,
    "jupyter": {
     "outputs_hidden": true,
     "source_hidden": true
    }
   },
   "outputs": [
    {
     "name": "stdout",
     "output_type": "stream",
     "text": [
      "r5s16384_True.json\n",
      "r10s2048_True.json\n",
      "r20s4096_False.json\n",
      "r5s1024_True-1.json\n",
      "r5s4096_True.json\n",
      "r5s8196_True-1.json\n",
      "r10s1024_False.json\n",
      "r5s8196_True-2.json\n",
      "r5s2048_True.json\n",
      "r5s8196_True-3.json\n",
      "r20s2048_True.json\n",
      "r5s1024_True-2.json\n",
      "r10s4096_False.json\n",
      "r20s1024_True.json\n",
      "r5s1024_True-3.json\n"
     ]
    }
   ],
   "source": [
    "# for files in directory\n",
    "\n",
    "import os\n",
    "for file in os.listdir(\"results\"):\n",
    "    if file.endswith(\".json\"):\n",
    "        print(file)"
   ]
  },
  {
   "cell_type": "markdown",
   "id": "8255d64a-6c45-4961-9da3-4b496408f31b",
   "metadata": {},
   "source": [
    "# Read JSON files from Directory"
   ]
  },
  {
   "cell_type": "code",
   "execution_count": 6,
   "id": "9f52dc3c-22a0-4ded-a2c3-1ec88701503d",
   "metadata": {},
   "outputs": [],
   "source": [
    "import pandas as pd\n",
    "import seaborn as sns"
   ]
  },
  {
   "cell_type": "code",
   "execution_count": 124,
   "id": "4115064b-518b-48f4-b3bf-dc5d80d3af45",
   "metadata": {},
   "outputs": [
    {
     "data": {
      "text/html": [
       "<div>\n",
       "<style scoped>\n",
       "    .dataframe tbody tr th:only-of-type {\n",
       "        vertical-align: middle;\n",
       "    }\n",
       "\n",
       "    .dataframe tbody tr th {\n",
       "        vertical-align: top;\n",
       "    }\n",
       "\n",
       "    .dataframe thead th {\n",
       "        text-align: right;\n",
       "    }\n",
       "</style>\n",
       "<table border=\"1\" class=\"dataframe\">\n",
       "  <thead>\n",
       "    <tr style=\"text-align: right;\">\n",
       "      <th></th>\n",
       "      <th>rows</th>\n",
       "      <th>shots</th>\n",
       "      <th>time</th>\n",
       "      <th>accuracy</th>\n",
       "      <th>is_true</th>\n",
       "    </tr>\n",
       "  </thead>\n",
       "  <tbody>\n",
       "  </tbody>\n",
       "</table>\n",
       "</div>"
      ],
      "text/plain": [
       "Empty DataFrame\n",
       "Columns: [rows, shots, time, accuracy, is_true]\n",
       "Index: []"
      ]
     },
     "execution_count": 124,
     "metadata": {},
     "output_type": "execute_result"
    }
   ],
   "source": [
    "# initialize dataframe\n",
    "df = pd.DataFrame(columns=['rows', 'shots', 'time', 'accuracy', 'is_true'])\n",
    "df"
   ]
  },
  {
   "cell_type": "code",
   "execution_count": 125,
   "id": "e1961c6c-6d8a-48e2-80f6-d1bbc243e8ef",
   "metadata": {},
   "outputs": [
    {
     "name": "stdout",
     "output_type": "stream",
     "text": [
      "{'rows': '5', 'shots': 16384, 'time': 16.073, 'accuracy': 0.5121, 'is_true': True}\n",
      "{'rows': '10', 'shots': 8196, 'time': 11.731, 'accuracy': 0.1202, 'is_true': True}\n",
      "{'rows': '10', 'shots': 2048, 'time': 7.557, 'accuracy': 0.0479, 'is_true': True}\n",
      "{'rows': '10', 'shots': 1024, 'time': 4.99, 'accuracy': 0.0205, 'is_true': False}\n",
      "{'rows': '10', 'shots': 2048, 'time': 5.259, 'accuracy': 0.2417, 'is_true': True}\n",
      "{'rows': '5', 'shots': 1024, 'time': 5.506, 'accuracy': 0.4268, 'is_true': True}\n",
      "{'rows': '5', 'shots': 4096, 'time': 7.876, 'accuracy': 0.3926, 'is_true': True}\n",
      "{'rows': '5', 'shots': 8196, 'time': 8.695, 'accuracy': 0.5993, 'is_true': True}\n",
      "{'rows': '5', 'shots': 8196, 'time': 9.746, 'accuracy': 0.4514, 'is_true': True}\n",
      "{'rows': '10', 'shots': 16384, 'time': 28.331, 'accuracy': 0.2447, 'is_true': True}\n",
      "{'rows': '10', 'shots': 3072, 'time': 5.877, 'accuracy': 0.1182, 'is_true': True}\n",
      "{'rows': '5', 'shots': 2048, 'time': 5.901, 'accuracy': 0.4292, 'is_true': True}\n",
      "{'rows': '5', 'shots': 8196, 'time': 7.718, 'accuracy': 0.5381, 'is_true': True}\n",
      "{'rows': '5', 'shots': 1024, 'time': 3.524, 'accuracy': 0.5459, 'is_true': True}\n",
      "{'rows': '10', 'shots': 2048, 'time': 4.485, 'accuracy': 0.0288, 'is_true': True}\n",
      "{'rows': '10', 'shots': 4096, 'time': 8.914, 'accuracy': 0.0024, 'is_true': False}\n",
      "{'rows': '10', 'shots': 4096, 'time': 6.603, 'accuracy': 0.1914, 'is_true': True}\n",
      "{'rows': '5', 'shots': 1024, 'time': 2.907, 'accuracy': 0.5039, 'is_true': True}\n"
     ]
    },
    {
     "data": {
      "text/html": [
       "<div>\n",
       "<style scoped>\n",
       "    .dataframe tbody tr th:only-of-type {\n",
       "        vertical-align: middle;\n",
       "    }\n",
       "\n",
       "    .dataframe tbody tr th {\n",
       "        vertical-align: top;\n",
       "    }\n",
       "\n",
       "    .dataframe thead th {\n",
       "        text-align: right;\n",
       "    }\n",
       "</style>\n",
       "<table border=\"1\" class=\"dataframe\">\n",
       "  <thead>\n",
       "    <tr style=\"text-align: right;\">\n",
       "      <th></th>\n",
       "      <th>rows</th>\n",
       "      <th>shots</th>\n",
       "      <th>time</th>\n",
       "      <th>accuracy</th>\n",
       "      <th>is_true</th>\n",
       "    </tr>\n",
       "  </thead>\n",
       "  <tbody>\n",
       "    <tr>\n",
       "      <th>0</th>\n",
       "      <td>5</td>\n",
       "      <td>16384</td>\n",
       "      <td>16.073</td>\n",
       "      <td>0.5121</td>\n",
       "      <td>True</td>\n",
       "    </tr>\n",
       "    <tr>\n",
       "      <th>1</th>\n",
       "      <td>10</td>\n",
       "      <td>8196</td>\n",
       "      <td>11.731</td>\n",
       "      <td>0.1202</td>\n",
       "      <td>True</td>\n",
       "    </tr>\n",
       "    <tr>\n",
       "      <th>2</th>\n",
       "      <td>10</td>\n",
       "      <td>2048</td>\n",
       "      <td>7.557</td>\n",
       "      <td>0.0479</td>\n",
       "      <td>True</td>\n",
       "    </tr>\n",
       "    <tr>\n",
       "      <th>3</th>\n",
       "      <td>10</td>\n",
       "      <td>1024</td>\n",
       "      <td>4.990</td>\n",
       "      <td>0.0205</td>\n",
       "      <td>False</td>\n",
       "    </tr>\n",
       "    <tr>\n",
       "      <th>4</th>\n",
       "      <td>10</td>\n",
       "      <td>2048</td>\n",
       "      <td>5.259</td>\n",
       "      <td>0.2417</td>\n",
       "      <td>True</td>\n",
       "    </tr>\n",
       "    <tr>\n",
       "      <th>5</th>\n",
       "      <td>5</td>\n",
       "      <td>1024</td>\n",
       "      <td>5.506</td>\n",
       "      <td>0.4268</td>\n",
       "      <td>True</td>\n",
       "    </tr>\n",
       "    <tr>\n",
       "      <th>6</th>\n",
       "      <td>5</td>\n",
       "      <td>4096</td>\n",
       "      <td>7.876</td>\n",
       "      <td>0.3926</td>\n",
       "      <td>True</td>\n",
       "    </tr>\n",
       "    <tr>\n",
       "      <th>7</th>\n",
       "      <td>5</td>\n",
       "      <td>8196</td>\n",
       "      <td>8.695</td>\n",
       "      <td>0.5993</td>\n",
       "      <td>True</td>\n",
       "    </tr>\n",
       "    <tr>\n",
       "      <th>8</th>\n",
       "      <td>5</td>\n",
       "      <td>8196</td>\n",
       "      <td>9.746</td>\n",
       "      <td>0.4514</td>\n",
       "      <td>True</td>\n",
       "    </tr>\n",
       "    <tr>\n",
       "      <th>9</th>\n",
       "      <td>10</td>\n",
       "      <td>16384</td>\n",
       "      <td>28.331</td>\n",
       "      <td>0.2447</td>\n",
       "      <td>True</td>\n",
       "    </tr>\n",
       "    <tr>\n",
       "      <th>10</th>\n",
       "      <td>10</td>\n",
       "      <td>3072</td>\n",
       "      <td>5.877</td>\n",
       "      <td>0.1182</td>\n",
       "      <td>True</td>\n",
       "    </tr>\n",
       "    <tr>\n",
       "      <th>11</th>\n",
       "      <td>5</td>\n",
       "      <td>2048</td>\n",
       "      <td>5.901</td>\n",
       "      <td>0.4292</td>\n",
       "      <td>True</td>\n",
       "    </tr>\n",
       "    <tr>\n",
       "      <th>12</th>\n",
       "      <td>5</td>\n",
       "      <td>8196</td>\n",
       "      <td>7.718</td>\n",
       "      <td>0.5381</td>\n",
       "      <td>True</td>\n",
       "    </tr>\n",
       "    <tr>\n",
       "      <th>13</th>\n",
       "      <td>5</td>\n",
       "      <td>1024</td>\n",
       "      <td>3.524</td>\n",
       "      <td>0.5459</td>\n",
       "      <td>True</td>\n",
       "    </tr>\n",
       "    <tr>\n",
       "      <th>14</th>\n",
       "      <td>10</td>\n",
       "      <td>2048</td>\n",
       "      <td>4.485</td>\n",
       "      <td>0.0288</td>\n",
       "      <td>True</td>\n",
       "    </tr>\n",
       "    <tr>\n",
       "      <th>15</th>\n",
       "      <td>10</td>\n",
       "      <td>4096</td>\n",
       "      <td>8.914</td>\n",
       "      <td>0.0024</td>\n",
       "      <td>False</td>\n",
       "    </tr>\n",
       "    <tr>\n",
       "      <th>16</th>\n",
       "      <td>10</td>\n",
       "      <td>4096</td>\n",
       "      <td>6.603</td>\n",
       "      <td>0.1914</td>\n",
       "      <td>True</td>\n",
       "    </tr>\n",
       "    <tr>\n",
       "      <th>17</th>\n",
       "      <td>5</td>\n",
       "      <td>1024</td>\n",
       "      <td>2.907</td>\n",
       "      <td>0.5039</td>\n",
       "      <td>True</td>\n",
       "    </tr>\n",
       "  </tbody>\n",
       "</table>\n",
       "</div>"
      ],
      "text/plain": [
       "   rows  shots    time  accuracy  is_true\n",
       "0     5  16384  16.073    0.5121     True\n",
       "1    10   8196  11.731    0.1202     True\n",
       "2    10   2048   7.557    0.0479     True\n",
       "3    10   1024   4.990    0.0205    False\n",
       "4    10   2048   5.259    0.2417     True\n",
       "5     5   1024   5.506    0.4268     True\n",
       "6     5   4096   7.876    0.3926     True\n",
       "7     5   8196   8.695    0.5993     True\n",
       "8     5   8196   9.746    0.4514     True\n",
       "9    10  16384  28.331    0.2447     True\n",
       "10   10   3072   5.877    0.1182     True\n",
       "11    5   2048   5.901    0.4292     True\n",
       "12    5   8196   7.718    0.5381     True\n",
       "13    5   1024   3.524    0.5459     True\n",
       "14   10   2048   4.485    0.0288     True\n",
       "15   10   4096   8.914    0.0024    False\n",
       "16   10   4096   6.603    0.1914     True\n",
       "17    5   1024   2.907    0.5039     True"
      ]
     },
     "execution_count": 125,
     "metadata": {},
     "output_type": "execute_result"
    }
   ],
   "source": [
    "# for files in directory\n",
    "import json\n",
    "import re\n",
    "import os\n",
    "\n",
    "row_pattern = r'r(\\d+)s'  # Match 'r' followed by one or more digits followed by 's'\n",
    "\n",
    "\n",
    "for file in os.listdir(\"results\"):\n",
    "    if file.endswith(\".json\"):\n",
    "        \n",
    "        \n",
    "        # finding row num\n",
    "        match = re.search(row_pattern, file)\n",
    "        if match:\n",
    "            rows = match.group(1)  # Extract the captured digits\n",
    "        else:\n",
    "            result = None  # If the pattern is not found, you can handle it accordingly\n",
    "\n",
    "        with open('results/'+file, 'r') as json_File:\n",
    "            json_file = json.load(json_File)\n",
    "            \n",
    "            # getting hold of all values inside\n",
    "            # the dictionary\n",
    "            if rows == '10' or rows == '5':\n",
    "                shots = json_file['results'][0]['shots']\n",
    "                time_taken = round(json_file['time_taken'], 3)\n",
    "                acc = json_file['accuracy']\n",
    "                is_true = json_file['is_true']\n",
    "        \n",
    "                new_row = {'rows': rows, 'shots': shots, 'time': time_taken, 'accuracy': acc, 'is_true': is_true}\n",
    "                df.loc[len(df)] = new_row\n",
    "                print(new_row)\n",
    "\n",
    "df"
   ]
  },
  {
   "cell_type": "markdown",
   "id": "352d65b3-7736-4d53-b0a7-641195a78a03",
   "metadata": {},
   "source": [
    "# Plots"
   ]
  },
  {
   "cell_type": "code",
   "execution_count": 126,
   "id": "53c8ce1b-d0eb-4c14-8def-cef7d91efa04",
   "metadata": {},
   "outputs": [
    {
     "name": "stderr",
     "output_type": "stream",
     "text": [
      "/Users/hyunjoon/venv/quantum/lib/python3.9/site-packages/seaborn/_oldcore.py:1498: FutureWarning: is_categorical_dtype is deprecated and will be removed in a future version. Use isinstance(dtype, CategoricalDtype) instead\n",
      "  if pd.api.types.is_categorical_dtype(vector):\n",
      "/Users/hyunjoon/venv/quantum/lib/python3.9/site-packages/seaborn/_oldcore.py:1498: FutureWarning: is_categorical_dtype is deprecated and will be removed in a future version. Use isinstance(dtype, CategoricalDtype) instead\n",
      "  if pd.api.types.is_categorical_dtype(vector):\n",
      "/Users/hyunjoon/venv/quantum/lib/python3.9/site-packages/seaborn/_oldcore.py:1498: FutureWarning: is_categorical_dtype is deprecated and will be removed in a future version. Use isinstance(dtype, CategoricalDtype) instead\n",
      "  if pd.api.types.is_categorical_dtype(vector):\n",
      "/Users/hyunjoon/venv/quantum/lib/python3.9/site-packages/seaborn/_oldcore.py:1498: FutureWarning: is_categorical_dtype is deprecated and will be removed in a future version. Use isinstance(dtype, CategoricalDtype) instead\n",
      "  if pd.api.types.is_categorical_dtype(vector):\n",
      "/Users/hyunjoon/venv/quantum/lib/python3.9/site-packages/seaborn/_oldcore.py:1498: FutureWarning: is_categorical_dtype is deprecated and will be removed in a future version. Use isinstance(dtype, CategoricalDtype) instead\n",
      "  if pd.api.types.is_categorical_dtype(vector):\n",
      "/Users/hyunjoon/venv/quantum/lib/python3.9/site-packages/seaborn/_oldcore.py:1498: FutureWarning: is_categorical_dtype is deprecated and will be removed in a future version. Use isinstance(dtype, CategoricalDtype) instead\n",
      "  if pd.api.types.is_categorical_dtype(vector):\n",
      "/Users/hyunjoon/venv/quantum/lib/python3.9/site-packages/seaborn/_oldcore.py:1498: FutureWarning: is_categorical_dtype is deprecated and will be removed in a future version. Use isinstance(dtype, CategoricalDtype) instead\n",
      "  if pd.api.types.is_categorical_dtype(vector):\n",
      "/Users/hyunjoon/venv/quantum/lib/python3.9/site-packages/seaborn/_oldcore.py:1498: FutureWarning: is_categorical_dtype is deprecated and will be removed in a future version. Use isinstance(dtype, CategoricalDtype) instead\n",
      "  if pd.api.types.is_categorical_dtype(vector):\n",
      "/Users/hyunjoon/venv/quantum/lib/python3.9/site-packages/seaborn/_oldcore.py:1498: FutureWarning: is_categorical_dtype is deprecated and will be removed in a future version. Use isinstance(dtype, CategoricalDtype) instead\n",
      "  if pd.api.types.is_categorical_dtype(vector):\n",
      "/Users/hyunjoon/venv/quantum/lib/python3.9/site-packages/seaborn/_oldcore.py:1498: FutureWarning: is_categorical_dtype is deprecated and will be removed in a future version. Use isinstance(dtype, CategoricalDtype) instead\n",
      "  if pd.api.types.is_categorical_dtype(vector):\n",
      "/Users/hyunjoon/venv/quantum/lib/python3.9/site-packages/seaborn/_oldcore.py:1119: FutureWarning: use_inf_as_na option is deprecated and will be removed in a future version. Convert inf values to NaN before operating instead.\n",
      "  with pd.option_context('mode.use_inf_as_na', True):\n",
      "/Users/hyunjoon/venv/quantum/lib/python3.9/site-packages/seaborn/_oldcore.py:1119: FutureWarning: use_inf_as_na option is deprecated and will be removed in a future version. Convert inf values to NaN before operating instead.\n",
      "  with pd.option_context('mode.use_inf_as_na', True):\n"
     ]
    },
    {
     "data": {
      "image/png": "[encoded data removed]",
      "text/plain": [
       "<Figure size 640x480 with 1 Axes>"
      ]
     },
     "metadata": {},
     "output_type": "display_data"
    }
   ],
   "source": [
    "import matplotlib.pyplot as plt\n",
    "import seaborn as sns\n",
    "\n",
    "ax = sns.lineplot(data=df, x=\"shots\", y=\"time\", hue=\"rows\", style=\"rows\",\n",
    "    markers=True, dashes=False)\n",
    "# sns.scatterplot(data=df[df[\"is_true\"] == False], x=\"shots\", y=\"time\", color=\"r\", label=\"false\", ax=ax)\n",
    "plt.tight_layout()\n",
    "plt.show()"
   ]
  },
  {
   "cell_type": "code",
   "execution_count": 127,
   "id": "72e118b4-d443-4fe1-952b-551add5c6ac5",
   "metadata": {},
   "outputs": [
    {
     "name": "stderr",
     "output_type": "stream",
     "text": [
      "/Users/hyunjoon/venv/quantum/lib/python3.9/site-packages/seaborn/_oldcore.py:1498: FutureWarning: is_categorical_dtype is deprecated and will be removed in a future version. Use isinstance(dtype, CategoricalDtype) instead\n",
      "  if pd.api.types.is_categorical_dtype(vector):\n",
      "/Users/hyunjoon/venv/quantum/lib/python3.9/site-packages/seaborn/_oldcore.py:1498: FutureWarning: is_categorical_dtype is deprecated and will be removed in a future version. Use isinstance(dtype, CategoricalDtype) instead\n",
      "  if pd.api.types.is_categorical_dtype(vector):\n",
      "/Users/hyunjoon/venv/quantum/lib/python3.9/site-packages/seaborn/_oldcore.py:1498: FutureWarning: is_categorical_dtype is deprecated and will be removed in a future version. Use isinstance(dtype, CategoricalDtype) instead\n",
      "  if pd.api.types.is_categorical_dtype(vector):\n",
      "/Users/hyunjoon/venv/quantum/lib/python3.9/site-packages/seaborn/_oldcore.py:1498: FutureWarning: is_categorical_dtype is deprecated and will be removed in a future version. Use isinstance(dtype, CategoricalDtype) instead\n",
      "  if pd.api.types.is_categorical_dtype(vector):\n",
      "/Users/hyunjoon/venv/quantum/lib/python3.9/site-packages/seaborn/_oldcore.py:1498: FutureWarning: is_categorical_dtype is deprecated and will be removed in a future version. Use isinstance(dtype, CategoricalDtype) instead\n",
      "  if pd.api.types.is_categorical_dtype(vector):\n",
      "/Users/hyunjoon/venv/quantum/lib/python3.9/site-packages/seaborn/_oldcore.py:1498: FutureWarning: is_categorical_dtype is deprecated and will be removed in a future version. Use isinstance(dtype, CategoricalDtype) instead\n",
      "  if pd.api.types.is_categorical_dtype(vector):\n",
      "/Users/hyunjoon/venv/quantum/lib/python3.9/site-packages/seaborn/_oldcore.py:1498: FutureWarning: is_categorical_dtype is deprecated and will be removed in a future version. Use isinstance(dtype, CategoricalDtype) instead\n",
      "  if pd.api.types.is_categorical_dtype(vector):\n",
      "/Users/hyunjoon/venv/quantum/lib/python3.9/site-packages/seaborn/_oldcore.py:1498: FutureWarning: is_categorical_dtype is deprecated and will be removed in a future version. Use isinstance(dtype, CategoricalDtype) instead\n",
      "  if pd.api.types.is_categorical_dtype(vector):\n",
      "/Users/hyunjoon/venv/quantum/lib/python3.9/site-packages/seaborn/_oldcore.py:1498: FutureWarning: is_categorical_dtype is deprecated and will be removed in a future version. Use isinstance(dtype, CategoricalDtype) instead\n",
      "  if pd.api.types.is_categorical_dtype(vector):\n",
      "/Users/hyunjoon/venv/quantum/lib/python3.9/site-packages/seaborn/_oldcore.py:1498: FutureWarning: is_categorical_dtype is deprecated and will be removed in a future version. Use isinstance(dtype, CategoricalDtype) instead\n",
      "  if pd.api.types.is_categorical_dtype(vector):\n",
      "/Users/hyunjoon/venv/quantum/lib/python3.9/site-packages/seaborn/_oldcore.py:1119: FutureWarning: use_inf_as_na option is deprecated and will be removed in a future version. Convert inf values to NaN before operating instead.\n",
      "  with pd.option_context('mode.use_inf_as_na', True):\n",
      "/Users/hyunjoon/venv/quantum/lib/python3.9/site-packages/seaborn/_oldcore.py:1119: FutureWarning: use_inf_as_na option is deprecated and will be removed in a future version. Convert inf values to NaN before operating instead.\n",
      "  with pd.option_context('mode.use_inf_as_na', True):\n"
     ]
    },
    {
     "data": {
      "text/plain": [
       "<Axes: xlabel='shots', ylabel='accuracy'>"
      ]
     },
     "execution_count": 127,
     "metadata": {},
     "output_type": "execute_result"
    },
    {
     "data": {
      "image/png": "[encoded data removed]",
      "text/plain": [
       "<Figure size 640x480 with 1 Axes>"
      ]
     },
     "metadata": {},
     "output_type": "display_data"
    }
   ],
   "source": [
    "import seaborn as sns\n",
    "\n",
    "sns.lineplot(data=df, x=\"shots\", y=\"accuracy\", hue=\"rows\", style=\"rows\",\n",
    "    markers=True, dashes=False)\n",
    "# sns.scatterplot(data=df[df[\"outlier_label\"] == 1], x=\"shots\", y=\"accuracy\", color=\"crimson\", label=\"outlier\", ax=ax)"
   ]
  },
  {
   "cell_type": "code",
   "execution_count": null,
   "id": "eaf57824-5231-4c1f-95f9-4a0b471826d4",
   "metadata": {},
   "outputs": [],
   "source": []
  }
 ],
 "metadata": {
  "kernelspec": {
   "display_name": "Python 3 (ipykernel)",
   "language": "python",
   "name": "python3"
  },
  "language_info": {
   "codemirror_mode": {
    "name": "ipython",
    "version": 3
   },
   "file_extension": ".py",
   "mimetype": "text/x-python",
   "name": "python",
   "nbconvert_exporter": "python",
   "pygments_lexer": "ipython3",
   "version": "3.9.6"
  }
 },
 "nbformat": 4,
 "nbformat_minor": 5
}
