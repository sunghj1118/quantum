{
  "cells": [
    {
      "cell_type": "markdown",
      "id": "c88bebb3-3160-4679-a294-e7849b8b8155",
      "metadata": {},
      "source": [
        "# 👋🌍 Hello, world: Submit a Q# job to IonQ\n",
        "\n",
        "In this notebook, we'll review the basics of Azure Quantum by submitting a simple *job*, or quantum program, to [IonQ](https://ionq.com/). We will use [Q#](https://docs.microsoft.com/azure/quantum/user-guide/) to express the quantum job."
      ]
    },
    {
      "cell_type": "markdown",
      "id": "9b1a6c3c-dd78-49a5-bfb5-41d78a14b495",
      "metadata": {
        "nteract": {
          "transient": {
            "deleting": false
          }
        }
      },
      "source": [
        "## Submit a simple job to IonQ using Azure Quantum\n",
        "Azure Quantum provides several ways to express quantum programs. In this example we are using Q#, but note that Qiskit and Cirq are also supported. All code in this example will be written in Python and Q#.\n",
        "\n",
        "Let's begin. When you see a code block, hover over it and click the triangle play-button to execute it. To avoid any compilation issues, this should be done in order from top to bottom."
      ]
    },
    {
      "cell_type": "markdown",
      "id": "908b5e9b-6204-4ba1-81b9-377594755310",
      "metadata": {
        "nteract": {
          "transient": {
            "deleting": false
          }
        }
      },
      "source": [
        "### 1. Connect to the Azure Quantum workspace\n",
        "\n",
        "To connect to the Azure Quantum service, call the `connect` function as seen below. This can take 30 seconds to run the first time, as the Q# environment is initializing."
      ]
    },
    {
      "cell_type": "code",
      "execution_count": 2,
      "id": "e1411aba-b0a9-4b4c-950c-8b8c82d892ea",
      "metadata": {},
      "outputs": [
        {
          "ename": "ModuleNotFoundError",
          "evalue": "No module named 'qsharp'",
          "output_type": "error",
          "traceback": [
            "\u001b[0;31m---------------------------------------------------------------------------\u001b[0m",
            "\u001b[0;31mModuleNotFoundError\u001b[0m                       Traceback (most recent call last)",
            "\u001b[1;32m/Users/hyunjoon/venv/my_quantum/Q#/hello-world-qsharp-ionq.ipynb Cell 4\u001b[0m line \u001b[0;36m1\n\u001b[0;32m----> <a href='vscode-notebook-cell:/Users/hyunjoon/venv/my_quantum/Q%23/hello-world-qsharp-ionq.ipynb#X25sZmlsZQ%3D%3D?line=0'>1</a>\u001b[0m \u001b[39mimport\u001b[39;00m \u001b[39mqsharp\u001b[39;00m\u001b[39m.\u001b[39;00m\u001b[39mazure\u001b[39;00m\n\u001b[1;32m      <a href='vscode-notebook-cell:/Users/hyunjoon/venv/my_quantum/Q%23/hello-world-qsharp-ionq.ipynb#X25sZmlsZQ%3D%3D?line=2'>3</a>\u001b[0m targets \u001b[39m=\u001b[39m qsharp\u001b[39m.\u001b[39mazure\u001b[39m.\u001b[39mconnect(\n\u001b[1;32m      <a href='vscode-notebook-cell:/Users/hyunjoon/venv/my_quantum/Q%23/hello-world-qsharp-ionq.ipynb#X25sZmlsZQ%3D%3D?line=3'>4</a>\u001b[0m             resourceId \u001b[39m=\u001b[39m \u001b[39m\"\u001b[39m\u001b[39m/subscriptions/0f1dbd45-340d-49eb-8803-a155ebc37bea/resourceGroups/AzureQuantum/providers/Microsoft.Quantum/Workspaces/my-first-workspace\u001b[39m\u001b[39m\"\u001b[39m,\n\u001b[1;32m      <a href='vscode-notebook-cell:/Users/hyunjoon/venv/my_quantum/Q%23/hello-world-qsharp-ionq.ipynb#X25sZmlsZQ%3D%3D?line=4'>5</a>\u001b[0m             location \u001b[39m=\u001b[39m \u001b[39m\"\u001b[39m\u001b[39mjapanwest\u001b[39m\u001b[39m\"\u001b[39m)\n",
            "\u001b[0;31mModuleNotFoundError\u001b[0m: No module named 'qsharp'"
          ]
        }
      ],
      "source": [
        "import qsharp.azure\n",
        "\n",
        "targets = qsharp.azure.connect(\n",
        "            resourceId = \"/subscriptions/0f1dbd45-340d-49eb-8803-a155ebc37bea/resourceGroups/AzureQuantum/providers/Microsoft.Quantum/Workspaces/my-first-workspace\",\n",
        "            location = \"japanwest\")\n",
        "\n"
      ]
    },
    {
      "cell_type": "markdown",
      "id": "cea8b6e6-9298-4b9b-820d-1bdadb2e3292",
      "metadata": {
        "nteract": {
          "transient": {
            "deleting": false
          }
        }
      },
      "source": [
        "We can use the resulting object to see which _targets_ are available for submission."
      ]
    },
    {
      "cell_type": "code",
      "execution_count": null,
      "id": "1b100175-e93f-46bb-8b92-d3ffc7366341",
      "metadata": {
        "jupyter": {
          "outputs_hidden": false,
          "source_hidden": false
        },
        "nteract": {
          "transient": {
            "deleting": false
          }
        }
      },
      "outputs": [],
      "source": [
        "import qsharp\n",
        "\n",
        "print(\"This workspace's targets:\")\n",
        "for target in targets:\n",
        "    print(\"-\", target.id)\n"
      ]
    },
    {
      "cell_type": "markdown",
      "id": "1dd1a479-27cf-47e2-83fc-c56e33c72cc5",
      "metadata": {
        "nteract": {
          "transient": {
            "deleting": false
          }
        }
      },
      "source": [
        "### ❕ Do you see `ionq.simulator` in your list of targets? If so, you're ready to keep going.\n",
        "\n",
        "Don't see it? You may need to add IonQ to your workspace to run this sample. Navigate to the **Providers** page in the portal and click **+Add** to add the IonQ provider. Don't worry, there's a free credits plan available."
      ]
    },
    {
      "cell_type": "markdown",
      "id": "67214b24-12f2-468e-9e5f-9082b3aa90b6",
      "metadata": {
        "nteract": {
          "transient": {
            "deleting": false
          }
        }
      },
      "source": [
        "## IonQ: The quantum provider\n",
        "Azure Quantum partners with third-party companies to deliver solutions to quantum jobs. These company offerings are called *providers*. Each provider can offer multiple *targets* with different capabilities. See the table below for IonQ's targets.\n",
        "\n",
        "| Target name | Target ID | Number of qubits | Description |\n",
        "| --- | --- | --- | --- |\n",
        "| Quantum simulator | `ionq.simulator` | 29 qubits | IonQ's cloud-based idealized simulator. Free of cost. |\n",
        "| Aria 1 | `ionq.qpu.aria-1` | 23 qubits | IonQ's Aria 1 trapped-ion quantum computer. This is real quantum hardware, not a simulation. |\n",
        "| Quantum computer | `ionq.qpu` | 11 qubits | IonQ's trapped-ion quantum computer. This is real quantum hardware, not a simulation. |\n",
        "\n",
        "For this example, we will use `ionq.simulator`. To learn more about IonQ's targets, check out our [documentation](https://docs.microsoft.com/azure/quantum/provider-ionq)."
      ]
    },
    {
      "cell_type": "markdown",
      "id": "45764d39-2da7-4d74-aac1-d4875eba8d8f",
      "metadata": {},
      "source": [
        "### 2. Build the quantum program\n",
        "\n",
        "Let's create a simple Q# program to run. This can take 30 seconds to run the first time, as the Q# environment is initializing."
      ]
    },
    {
      "cell_type": "code",
      "execution_count": null,
      "id": "db9e3790-cb72-4295-b923-96b0202dcfce",
      "metadata": {
        "jupyter": {
          "outputs_hidden": false,
          "source_hidden": false
        },
        "nteract": {
          "transient": {
            "deleting": false
          }
        }
      },
      "outputs": [],
      "source": [
        "# We declare the function we will define in Q# as a callable so that Python recognizes the symbol.\n",
        "GenerateRandomBit: any = None\n"
      ]
    },
    {
      "cell_type": "code",
      "execution_count": null,
      "id": "293649c3-e2da-4d2a-821f-402848461c45",
      "metadata": {
        "microsoft": {
          "language": "qsharp"
        },
        "vscode": {
          "languageId": "qsharp"
        }
      },
      "outputs": [],
      "source": [
        "%%qsharp\n",
        "open Microsoft.Quantum.Measurement;\n",
        "open Microsoft.Quantum.Arrays;\n",
        "open Microsoft.Quantum.Convert;\n",
        "\n",
        "operation GenerateRandomBit() : Result {\n",
        "    use target = Qubit();\n",
        "\n",
        "    // Apply an H-gate and measure.\n",
        "    H(target);\n",
        "    return M(target);\n",
        "}\n"
      ]
    },
    {
      "cell_type": "markdown",
      "id": "ef04d06b-2cc1-4504-b91a-54f2b95c5316",
      "metadata": {
        "nteract": {
          "transient": {
            "deleting": false
          }
        }
      },
      "source": [
        "The program you built is a simple quantum random bit generator. With IonQ's idealized simulator, we will be able to calculate the probability of measuring a `1` or `0`."
      ]
    },
    {
      "cell_type": "markdown",
      "id": "3137be4d-5914-45bd-b20a-3ac1660f1a75",
      "metadata": {},
      "source": [
        "### 3. Submit the quantum program to IonQ\n",
        "\n",
        "We will use the `execute` function to run the quantum program above on IonQ's `ionq.simulator` target. This may take a minute or so ⏳. Your job will be packaged and sent to IonQ, where it will wait its turn to be run."
      ]
    },
    {
      "cell_type": "code",
      "execution_count": null,
      "id": "ddd1fb48-2d66-42bc-9005-a8e58e0c23d6",
      "metadata": {},
      "outputs": [],
      "source": [
        "# Set the target to ionq.simulator\n",
        "qsharp.azure.target(\"ionq.simulator\")\n",
        "\n",
        "# We'll use 100 shots (simulated runs). Timeout is in seconds.\n",
        "result = qsharp.azure.execute(GenerateRandomBit, shots=100, jobName=\"Generate one random bit\", timeout=240)\n"
      ]
    },
    {
      "cell_type": "markdown",
      "id": "313bfb7d-2410-4ba9-ad9e-6a1f4edc9c00",
      "metadata": {
        "nteract": {
          "transient": {
            "deleting": false
          }
        }
      },
      "source": [
        "The job ID can be used to retrieve the results later using the `output` and `status` functions or by viewing it under the **Job management** section of the portal."
      ]
    },
    {
      "cell_type": "markdown",
      "id": "1c7eaf41-1c9b-438b-928b-e2028ab6c306",
      "metadata": {
        "nteract": {
          "transient": {
            "deleting": false
          }
        }
      },
      "source": [
        "### 4. Visualize job results \n",
        "You can also view a histogram of the results using [`pyplot`](https://matplotlib.org/stable/api/_as_gen/matplotlib.pyplot.html):"
      ]
    },
    {
      "cell_type": "code",
      "execution_count": null,
      "id": "91081cee-b857-43a5-a3c4-3e3e58c254bb",
      "metadata": {
        "jupyter": {
          "outputs_hidden": false,
          "source_hidden": false
        },
        "nteract": {
          "transient": {
            "deleting": false
          }
        }
      },
      "outputs": [],
      "source": [
        "from matplotlib import pyplot\n",
        "\n",
        "pyplot.bar(result.keys(), result.values())\n",
        "pyplot.title(\"Result\")\n",
        "pyplot.xlabel(\"Measurement\")\n",
        "pyplot.ylabel(\"Probability\")\n",
        "\n",
        "pyplot.show()\n"
      ]
    },
    {
      "cell_type": "markdown",
      "id": "1e4cca60-1604-4cb8-8aac-943026f492e5",
      "metadata": {
        "nteract": {
          "transient": {
            "deleting": false
          }
        }
      },
      "source": [
        "**See the histogram above? Congratulations, you've submitted a job with Azure Quantum! 👏**\n"
      ]
    },
    {
      "cell_type": "markdown",
      "id": "5620b475-ea05-43fd-942d-7a5ccd671ad8",
      "metadata": {
        "nteract": {
          "transient": {
            "deleting": false
          }
        }
      },
      "source": [
        "### 5. Next steps\n",
        "Next, you can try running a program on IonQ's hardware target - just replace `ionq.simulator` with `ionq.qpu`. Or try another sample by navigating back to the sample gallery. The same \"hello world\" sample can be run with different quantum providers by choosing another option in the gallery card drop-down menu. Don't worry - your work here is automatically saved.\n",
        "\n",
        "To learn more about submitting jobs to Azure Quantum using Q#, refer to [this documentation](https://docs.microsoft.com/azure/quantum/how-to-submit-jobs?pivots=ide-python).\n",
        "\n",
        "To learn more about job pricing, review the [Azure Quantum documentation on job costs](https://docs.microsoft.com/azure/quantum/azure-quantum-job-costs)."
      ]
    }
  ],
  "metadata": {
    "kernel_info": {
      "name": "python3"
    },
    "kernelspec": {
      "display_name": "Python 3 (ipykernel)",
      "language": "python",
      "name": "python3"
    },
    "language_info": {
      "codemirror_mode": {
        "name": "ipython",
        "version": 3
      },
      "file_extension": ".py",
      "mimetype": "text/x-python",
      "name": "python",
      "nbconvert_exporter": "python",
      "pygments_lexer": "ipython3",
      "version": "3.9.6"
    },
    "microsoft": {
      "host": {
        "AzureQuantum": {
          "sourceLink": "https://raw.githubusercontent.com/microsoft/Quantum/2faada09f683b1112a3730caa561faff7b35b5df/samples/azure-quantum/hello-world/HW-ionq-qsharp.ipynb",
          "sourceType": "SampleGallery"
        }
      }
    },
    "nteract": {
      "version": "nteract-front-end@1.0.0"
    }
  },
  "nbformat": 4,
  "nbformat_minor": 5
}
