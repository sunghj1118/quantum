{
 "cells": [
  {
   "cell_type": "code",
   "execution_count": null,
   "id": "13f61624-a9f1-477e-b4f2-d7696b8b0186",
   "metadata": {},
   "outputs": [],
   "source": [
    "import json\n",
    " \n",
    "with open('results/r10s1024_False.json', 'r') as json_File:\n",
    "    json_file = json.load(json_File)\n",
    " \n",
    "# getting hold of all values inside\n",
    "# the dictionary\n",
    "test = json_file['root']\n",
    " \n",
    "# getting hold of the values of\n",
    "# variableParam\n",
    "test1 = test[1].values() \n",
    "test2 = list(test1)[0]\n",
    "test3 = test2[1:-1].split(\",\")\n",
    "print(test3[1])"
   ]
  }
 ],
 "metadata": {
  "kernelspec": {
   "display_name": "Python 3 (ipykernel)",
   "language": "python",
   "name": "python3"
  },
  "language_info": {
   "codemirror_mode": {
    "name": "ipython",
    "version": 3
   },
   "file_extension": ".py",
   "mimetype": "text/x-python",
   "name": "python",
   "nbconvert_exporter": "python",
   "pygments_lexer": "ipython3",
   "version": "3.9.6"
  }
 },
 "nbformat": 4,
 "nbformat_minor": 5
}
