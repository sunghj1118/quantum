{
 "cells": [
  {
   "cell_type": "code",
   "execution_count": 5,
   "id": "13f61624-a9f1-477e-b4f2-d7696b8b0186",
   "metadata": {},
   "outputs": [
    {
     "name": "stdout",
     "output_type": "stream",
     "text": [
      "1 760\n",
      "0.7422\n"
     ]
    }
   ],
   "source": [
    "import json\n",
    "from collections import Counter \n",
    " \n",
    "with open('results/r10s1024_False.json', 'r') as json_File:\n",
    "    json_file = json.load(json_File)\n",
    " \n",
    "# getting hold of all values inside\n",
    "# the dictionary\n",
    "shots = json_file['results'][0]['shots']\n",
    "time_taken = round(json_file['time_taken'], 3)\n",
    "\n",
    "# implementing get_counts()\n",
    "count = json_file['results'][0]['data']['counts']\n",
    "value, count = Counter(count.values()).most_common(1)[0]\n",
    "accuracy = round(count/shots, 4)\n",
    "\n",
    "\n",
    "print(value, count)\n",
    "print(accuracy)\n",
    "\n",
    "# getting hold of the values of\n",
    "# variableParam\n",
    "# test1 = test[1].values() \n",
    "# test2 = list(test1)[0]\n",
    "# test3 = test2[1:-1].split(\",\")\n",
    "# print(test3[1])"
   ]
  },
  {
   "cell_type": "code",
   "execution_count": 12,
   "id": "c67adb13-507d-4558-a742-47594ace3478",
   "metadata": {},
   "outputs": [
    {
     "name": "stdout",
     "output_type": "stream",
     "text": [
      "r5s16384_True.json\n",
      "r10s2048_True.json\n",
      "r20s4096_False.json\n",
      "r5s1024_True-1.json\n",
      "r5s4096_True.json\n",
      "r5s8196_True-1.json\n",
      "r10s1024_False.json\n",
      "r5s8196_True-2.json\n",
      "r5s2048_True.json\n",
      "r5s8196_True-3.json\n",
      "r20s2048_True.json\n",
      "r5s1024_True-2.json\n",
      "r10s4096_False.json\n",
      "r20s1024_True.json\n",
      "r5s1024_True-3.json\n"
     ]
    }
   ],
   "source": [
    "# for files in directory\n",
    "\n",
    "import os\n",
    "for file in os.listdir(\"results\"):\n",
    "    if file.endswith(\".json\"):\n",
    "        print(file)"
   ]
  },
  {
   "cell_type": "code",
   "execution_count": 6,
   "id": "9f52dc3c-22a0-4ded-a2c3-1ec88701503d",
   "metadata": {},
   "outputs": [],
   "source": [
    "import pandas as pd\n",
    "import seaborn as sns"
   ]
  },
  {
   "cell_type": "code",
   "execution_count": 10,
   "id": "a386d1c5-d801-4491-b865-1c941bf70529",
   "metadata": {},
   "outputs": [
    {
     "data": {
      "text/plain": [
       "{'shots': 1024, 'time': 3.791}"
      ]
     },
     "execution_count": 10,
     "metadata": {},
     "output_type": "execute_result"
    }
   ],
   "source": [
    "new_row = {'shots': shots, 'time': time_taken}\n",
    "new_row"
   ]
  },
  {
   "cell_type": "code",
   "execution_count": 14,
   "id": "4115064b-518b-48f4-b3bf-dc5d80d3af45",
   "metadata": {},
   "outputs": [
    {
     "data": {
      "text/html": [
       "<div>\n",
       "<style scoped>\n",
       "    .dataframe tbody tr th:only-of-type {\n",
       "        vertical-align: middle;\n",
       "    }\n",
       "\n",
       "    .dataframe tbody tr th {\n",
       "        vertical-align: top;\n",
       "    }\n",
       "\n",
       "    .dataframe thead th {\n",
       "        text-align: right;\n",
       "    }\n",
       "</style>\n",
       "<table border=\"1\" class=\"dataframe\">\n",
       "  <thead>\n",
       "    <tr style=\"text-align: right;\">\n",
       "      <th></th>\n",
       "      <th>rows</th>\n",
       "      <th>shots</th>\n",
       "      <th>time</th>\n",
       "    </tr>\n",
       "  </thead>\n",
       "  <tbody>\n",
       "  </tbody>\n",
       "</table>\n",
       "</div>"
      ],
      "text/plain": [
       "Empty DataFrame\n",
       "Columns: [rows, shots, time]\n",
       "Index: []"
      ]
     },
     "execution_count": 14,
     "metadata": {},
     "output_type": "execute_result"
    }
   ],
   "source": [
    "# initialize dataframe\n",
    "df = pd.DataFrame(columns=['rows', 'shots', 'time'])\n",
    "df"
   ]
  },
  {
   "cell_type": "code",
   "execution_count": null,
   "id": "2e831161-8a02-4bec-8898-98850f0d78fb",
   "metadata": {},
   "outputs": [],
   "source": [
    "df.loc[len(df)] = new_row\n",
    "df"
   ]
  },
  {
   "cell_type": "code",
   "execution_count": 17,
   "id": "e1961c6c-6d8a-48e2-80f6-d1bbc243e8ef",
   "metadata": {},
   "outputs": [
    {
     "name": "stdout",
     "output_type": "stream",
     "text": [
      "{'rows': '5', 'shots': 1024, 'time': 3.791}\n",
      "{'rows': '10', 'shots': 1024, 'time': 3.791}\n",
      "{'rows': '20', 'shots': 1024, 'time': 3.791}\n",
      "{'rows': '5', 'shots': 1024, 'time': 3.791}\n",
      "{'rows': '5', 'shots': 1024, 'time': 3.791}\n",
      "{'rows': '5', 'shots': 1024, 'time': 3.791}\n",
      "{'rows': '10', 'shots': 1024, 'time': 3.791}\n",
      "{'rows': '5', 'shots': 1024, 'time': 3.791}\n",
      "{'rows': '5', 'shots': 1024, 'time': 3.791}\n",
      "{'rows': '5', 'shots': 1024, 'time': 3.791}\n",
      "{'rows': '20', 'shots': 1024, 'time': 3.791}\n",
      "{'rows': '5', 'shots': 1024, 'time': 3.791}\n",
      "{'rows': '10', 'shots': 1024, 'time': 3.791}\n",
      "{'rows': '20', 'shots': 1024, 'time': 3.791}\n",
      "{'rows': '5', 'shots': 1024, 'time': 3.791}\n"
     ]
    },
    {
     "data": {
      "text/html": [
       "<div>\n",
       "<style scoped>\n",
       "    .dataframe tbody tr th:only-of-type {\n",
       "        vertical-align: middle;\n",
       "    }\n",
       "\n",
       "    .dataframe tbody tr th {\n",
       "        vertical-align: top;\n",
       "    }\n",
       "\n",
       "    .dataframe thead th {\n",
       "        text-align: right;\n",
       "    }\n",
       "</style>\n",
       "<table border=\"1\" class=\"dataframe\">\n",
       "  <thead>\n",
       "    <tr style=\"text-align: right;\">\n",
       "      <th></th>\n",
       "      <th>rows</th>\n",
       "      <th>shots</th>\n",
       "      <th>time</th>\n",
       "    </tr>\n",
       "  </thead>\n",
       "  <tbody>\n",
       "    <tr>\n",
       "      <th>0</th>\n",
       "      <td>5</td>\n",
       "      <td>1024</td>\n",
       "      <td>3.791</td>\n",
       "    </tr>\n",
       "    <tr>\n",
       "      <th>1</th>\n",
       "      <td>10</td>\n",
       "      <td>1024</td>\n",
       "      <td>3.791</td>\n",
       "    </tr>\n",
       "    <tr>\n",
       "      <th>2</th>\n",
       "      <td>20</td>\n",
       "      <td>1024</td>\n",
       "      <td>3.791</td>\n",
       "    </tr>\n",
       "    <tr>\n",
       "      <th>3</th>\n",
       "      <td>5</td>\n",
       "      <td>1024</td>\n",
       "      <td>3.791</td>\n",
       "    </tr>\n",
       "    <tr>\n",
       "      <th>4</th>\n",
       "      <td>5</td>\n",
       "      <td>1024</td>\n",
       "      <td>3.791</td>\n",
       "    </tr>\n",
       "    <tr>\n",
       "      <th>5</th>\n",
       "      <td>5</td>\n",
       "      <td>1024</td>\n",
       "      <td>3.791</td>\n",
       "    </tr>\n",
       "    <tr>\n",
       "      <th>6</th>\n",
       "      <td>10</td>\n",
       "      <td>1024</td>\n",
       "      <td>3.791</td>\n",
       "    </tr>\n",
       "    <tr>\n",
       "      <th>7</th>\n",
       "      <td>5</td>\n",
       "      <td>1024</td>\n",
       "      <td>3.791</td>\n",
       "    </tr>\n",
       "    <tr>\n",
       "      <th>8</th>\n",
       "      <td>5</td>\n",
       "      <td>1024</td>\n",
       "      <td>3.791</td>\n",
       "    </tr>\n",
       "    <tr>\n",
       "      <th>9</th>\n",
       "      <td>5</td>\n",
       "      <td>1024</td>\n",
       "      <td>3.791</td>\n",
       "    </tr>\n",
       "    <tr>\n",
       "      <th>10</th>\n",
       "      <td>20</td>\n",
       "      <td>1024</td>\n",
       "      <td>3.791</td>\n",
       "    </tr>\n",
       "    <tr>\n",
       "      <th>11</th>\n",
       "      <td>5</td>\n",
       "      <td>1024</td>\n",
       "      <td>3.791</td>\n",
       "    </tr>\n",
       "    <tr>\n",
       "      <th>12</th>\n",
       "      <td>10</td>\n",
       "      <td>1024</td>\n",
       "      <td>3.791</td>\n",
       "    </tr>\n",
       "    <tr>\n",
       "      <th>13</th>\n",
       "      <td>20</td>\n",
       "      <td>1024</td>\n",
       "      <td>3.791</td>\n",
       "    </tr>\n",
       "    <tr>\n",
       "      <th>14</th>\n",
       "      <td>5</td>\n",
       "      <td>1024</td>\n",
       "      <td>3.791</td>\n",
       "    </tr>\n",
       "  </tbody>\n",
       "</table>\n",
       "</div>"
      ],
      "text/plain": [
       "   rows  shots   time\n",
       "0     5   1024  3.791\n",
       "1    10   1024  3.791\n",
       "2    20   1024  3.791\n",
       "3     5   1024  3.791\n",
       "4     5   1024  3.791\n",
       "5     5   1024  3.791\n",
       "6    10   1024  3.791\n",
       "7     5   1024  3.791\n",
       "8     5   1024  3.791\n",
       "9     5   1024  3.791\n",
       "10   20   1024  3.791\n",
       "11    5   1024  3.791\n",
       "12   10   1024  3.791\n",
       "13   20   1024  3.791\n",
       "14    5   1024  3.791"
      ]
     },
     "execution_count": 17,
     "metadata": {},
     "output_type": "execute_result"
    }
   ],
   "source": [
    "# for files in directory\n",
    "import re\n",
    "import os\n",
    "\n",
    "row_pattern = r'r(\\d+)s'  # Match 'r' followed by one or more digits followed by 's'\n",
    "\n",
    "\n",
    "for file in os.listdir(\"results\"):\n",
    "    if file.endswith(\".json\"):\n",
    "        with open(file, 'r') as json_File:\n",
    "            json_file = json.load(json_File)\n",
    "            \n",
    "            # getting hold of all values inside\n",
    "            # the dictionary\n",
    "            shots = json_file['results'][0]['shots']\n",
    "            time_taken = round(json_file['time_taken'], 3)\n",
    "        \n",
    "        # finding row num\n",
    "        match = re.search(row_pattern, file)\n",
    "        if match:\n",
    "            rows = match.group(1)  # Extract the captured digits\n",
    "        else:\n",
    "            result = None  # If the pattern is not found, you can handle it accordingly\n",
    "            \n",
    "        new_row = {'rows': rows, 'shots': shots, 'time': time_taken}\n",
    "        df.loc[len(df)] = new_row\n",
    "        print(new_row)\n",
    "\n",
    "df"
   ]
  },
  {
   "cell_type": "code",
   "execution_count": null,
   "id": "53c8ce1b-d0eb-4c14-8def-cef7d91efa04",
   "metadata": {},
   "outputs": [],
   "source": []
  }
 ],
 "metadata": {
  "kernelspec": {
   "display_name": "Python 3 (ipykernel)",
   "language": "python",
   "name": "python3"
  },
  "language_info": {
   "codemirror_mode": {
    "name": "ipython",
    "version": 3
   },
   "file_extension": ".py",
   "mimetype": "text/x-python",
   "name": "python",
   "nbconvert_exporter": "python",
   "pygments_lexer": "ipython3",
   "version": "3.9.6"
  }
 },
 "nbformat": 4,
 "nbformat_minor": 5
}
