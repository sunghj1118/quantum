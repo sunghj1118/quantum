{
 "cells": [
  {
   "cell_type": "code",
   "execution_count": 19,
   "id": "13f61624-a9f1-477e-b4f2-d7696b8b0186",
   "metadata": {},
   "outputs": [
    {
     "name": "stdout",
     "output_type": "stream",
     "text": [
      "1 760\n",
      "0.7422\n"
     ]
    }
   ],
   "source": [
    "import json\n",
    "from collections import Counter \n",
    " \n",
    "with open('results/r10s1024_False.json', 'r') as json_File:\n",
    "    json_file = json.load(json_File)\n",
    " \n",
    "# getting hold of all values inside\n",
    "# the dictionary\n",
    "backend = json_file['backend_name']\n",
    "shots = json_file['results'][0]['shots']\n",
    "time_taken = round(json_file['time_taken'], 3)\n",
    "\n",
    "# implementing get_counts()\n",
    "count = json_file['results'][0]['data']['counts']\n",
    "value, count = Counter(count.values()).most_common(1)[0]\n",
    "accuracy = round(count/shots, 4)\n",
    "\n",
    "\n",
    "print(value, count)\n",
    "print(accuracy)\n",
    "\n",
    "# getting hold of the values of\n",
    "# variableParam\n",
    "# test1 = test[1].values() \n",
    "# test2 = list(test1)[0]\n",
    "# test3 = test2[1:-1].split(\",\")\n",
    "# print(test3[1])"
   ]
  },
  {
   "cell_type": "code",
   "execution_count": null,
   "id": "9f52dc3c-22a0-4ded-a2c3-1ec88701503d",
   "metadata": {},
   "outputs": [],
   "source": []
  }
 ],
 "metadata": {
  "kernelspec": {
   "display_name": "Python 3 (ipykernel)",
   "language": "python",
   "name": "python3"
  },
  "language_info": {
   "codemirror_mode": {
    "name": "ipython",
    "version": 3
   },
   "file_extension": ".py",
   "mimetype": "text/x-python",
   "name": "python",
   "nbconvert_exporter": "python",
   "pygments_lexer": "ipython3",
   "version": "3.9.6"
  }
 },
 "nbformat": 4,
 "nbformat_minor": 5
}
